{
 "cells": [
  {
   "cell_type": "code",
   "execution_count": 60,
   "metadata": {
    "collapsed": true
   },
   "outputs": [],
   "source": [
    "import numpy as np\n",
    "import matplotlib.pyplot as plt"
   ]
  },
  {
   "cell_type": "code",
   "execution_count": 61,
   "metadata": {},
   "outputs": [],
   "source": [
    "def loaddata(filename):\n",
    "    file=open(filename)\n",
    "    x=[]\n",
    "    y=[]\n",
    "    \n",
    "    for line in file.readlines():\n",
    "        line=line.strip().split()\n",
    "        \n",
    "        x.append([1,float(line[0]),float(line[1])])\n",
    "        \n",
    "        y.append(float(line[2]))\n",
    "    \n",
    "    xmat=np.mat(x)\n",
    "    ymat=np.mat(y).T\n",
    "        \n",
    "    file.close()\n",
    "    \n",
    "    return xmat, ymat\n",
    "    "
   ]
  },
  {
   "cell_type": "code",
   "execution_count": 62,
   "metadata": {},
   "outputs": [],
   "source": [
    "def w_cal(xmat,ymat,alpha=0.001, maxIter=10001):\n",
    "    #w initite\n",
    "    w=np.mat(np.random.randn(3,1))\n",
    "    #w update\n",
    "    for i in range(maxIter):\n",
    "        H=1/(1+np.exp(-xmat*w))\n",
    "        dw=xmat.T*(H-ymat)\n",
    "        w-=alpha*dw\n",
    "        \n",
    "    return w\n",
    "    \n",
    "    "
   ]
  },
  {
   "cell_type": "code",
   "execution_count": 63,
   "metadata": {},
   "outputs": [
    {
     "name": "stdout",
     "output_type": "stream",
     "text": [
      "[[ 1.  2.  1.]\n",
      " [ 1.  2.  2.]\n",
      " [ 1.  5.  4.]\n",
      " [ 1.  4.  5.]\n",
      " [ 1.  2.  3.]\n",
      " [ 1.  3.  2.]\n",
      " [ 1.  6.  5.]\n",
      " [ 1.  4.  1.]\n",
      " [ 1.  6.  3.]\n",
      " [ 1.  7.  4.]]\n",
      "[[ 0.]\n",
      " [ 0.]\n",
      " [ 1.]\n",
      " [ 1.]\n",
      " [ 0.]\n",
      " [ 0.]\n",
      " [ 1.]\n",
      " [ 0.]\n",
      " [ 1.]\n",
      " [ 1.]]\n"
     ]
    }
   ],
   "source": [
    "xmat,ymat=loaddata('/Users/ph/Desktop/test.txt')\n",
    "print(xmat)\n",
    "print(ymat)"
   ]
  },
  {
   "cell_type": "code",
   "execution_count": 64,
   "metadata": {},
   "outputs": [
    {
     "name": "stdout",
     "output_type": "stream",
     "text": [
      "W: [[-6.10790158]\n",
      " [ 0.83778295]\n",
      " [ 1.02535195]]\n"
     ]
    }
   ],
   "source": [
    "w=w_cal(xmat,ymat)\n",
    "print('W:',w)"
   ]
  },
  {
   "cell_type": "code",
   "execution_count": 65,
   "metadata": {},
   "outputs": [
    {
     "data": {
      "image/png": "[encoded data removed]",
      "text/plain": [
       "<matplotlib.figure.Figure at 0x10e485cc0>"
      ]
     },
     "metadata": {},
     "output_type": "display_data"
    }
   ],
   "source": [
    "#show\n",
    "w0=w[0,0]\n",
    "w1=w[1,0]\n",
    "w2=w[2,0]\n",
    "pltx1=np.arange(1,7,0.01)\n",
    "pltx2=-w0/w2-w1/w2*pltx1\n",
    "plt.plot(pltx1,pltx2,label='decision boundary',c='r')\n",
    "\n",
    "\n",
    "plt.scatter(xmat[:,1][ymat==0].A,xmat[:,2][ymat==0].A,marker='^',s=100,label='label=0')\n",
    "plt.scatter(xmat[:,1][ymat==1].A,xmat[:,2][ymat==1].A,s=100,label='label=1')\n",
    "plt.grid()\n",
    "plt.legend()\n",
    "plt.show()"
   ]
  },
  {
   "cell_type": "code",
   "execution_count": null,
   "metadata": {
    "collapsed": true
   },
   "outputs": [],
   "source": []
  }
 ],
 "metadata": {
  "kernelspec": {
   "display_name": "Python 3",
   "language": "python",
   "name": "python3"
  },
  "language_info": {
   "codemirror_mode": {
    "name": "ipython",
    "version": 3
   },
   "file_extension": ".py",
   "mimetype": "text/x-python",
   "name": "python",
   "nbconvert_exporter": "python",
   "pygments_lexer": "ipython3",
   "version": "3.6.7"
  }
 },
 "nbformat": 4,
 "nbformat_minor": 2
}
